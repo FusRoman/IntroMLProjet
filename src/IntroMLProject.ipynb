{
 "cells": [
  {
   "cell_type": "markdown",
   "metadata": {},
   "source": [
    "<h1 style=\"color:red\" align=\"center\"> Projet d'introduction au Machine Learning <br/> Out-Of-Domain PoS Tagging <br/> Présentation des résultats algorithmique</h1>"
   ]
  },
  {
   "cell_type": "code",
   "execution_count": 1,
   "metadata": {
    "scrolled": false
   },
   "outputs": [
    {
     "name": "stdout",
     "output_type": "stream",
     "text": [
      "Initialization...\n",
      "\tPreparing corpus fr.foot.test.json...\n",
      "\tDone\n",
      "\tPreparing corpus fr.gsd.test.json...\n",
      "\tDone\n",
      "\tPreparing corpus fr.sequoia.train.json...\n",
      "\tDone\n",
      "\tPreparing corpus fr.ftb.test.json...\n",
      "\tDone\n",
      "\tPreparing corpus fr.ftb.dev.json...\n",
      "\tDone\n",
      "\tPreparing corpus fr.spoken.test.json...\n",
      "\tDone\n",
      "\tPreparing corpus fr.pud.train.json...\n",
      "\tDone\n",
      "\tPreparing corpus fr.spoken.train.json...\n",
      "\tDone\n",
      "\tPreparing corpus fr.natdis.test.json...\n",
      "\tDone\n",
      "\tPreparing corpus fr.partut.dev.json...\n",
      "\tDone\n",
      "\tPreparing corpus fr.sequoia.test.json...\n",
      "\tDone\n",
      "\tPreparing corpus fr.gsd.dev.json...\n",
      "\tDone\n",
      "\tPreparing corpus fr.sequoia.dev.json...\n",
      "\tDone\n",
      "\tPreparing corpus fr.gsd.train.json...\n",
      "\tDone\n",
      "\tPreparing corpus fr.pud.test.json...\n",
      "\tDone\n",
      "\tPreparing corpus fr.ftb.train.json...\n",
      "\tDone\n",
      "\tPreparing corpus fr.partut.test.json...\n",
      "\tDone\n",
      "\tPreparing corpus fr.partut.train.json...\n",
      "\tDone\n",
      "\tPreparing corpus fr.spoken.dev.json...\n",
      "\tDone\n",
      "Done!\n"
     ]
    }
   ],
   "source": [
    "#chargement des corpus en mémoire\n",
    "\n",
    "import dataAnalysis as da\n",
    "import matplotlib.pyplot as plt\n",
    "import numpy as np\n",
    "da.init()"
   ]
  },
  {
   "cell_type": "markdown",
   "metadata": {},
   "source": [
    "# Statistique des corpus"
   ]
  },
  {
   "cell_type": "code",
   "execution_count": null,
   "metadata": {},
   "outputs": [],
   "source": [
    "#itère sur chacun des corpus\n",
    "def iterateCorpus(f, printing = True):\n",
    "    for nameCorpus, corpus in da.listeCorpus.items():\n",
    "        if printing:\n",
    "            print(\"corpus : \", nameCorpus)\n",
    "        for typeDS, dataset in corpus.getDataset().items():\n",
    "            if printing:\n",
    "                print(\"ensemble \", typeDS)\n",
    "            f(dataset, nameCorpus, typeDS)\n",
    "\n",
    "# met à jour les données statistiques\n",
    "def updateStat(dataset, nm, tds):\n",
    "    dataset.updateStat()\n",
    "\n",
    "# affiche les statistiques basique\n",
    "\n",
    "\n",
    "def printBasicStat(dataset, nm, tds):\n",
    "    #baseStat.append((nm + \" \" + tds, len(dataset.data), dataset.nbWord, dataset.nbUniqueWords))\n",
    "    print(\"   nombre de phrase : \", len(dataset.data))\n",
    "    print(\"   nombre de mot : \", dataset.nbWord)\n",
    "    print(\"   nombre de mot unique : \", dataset.nbUniqueWords)\n",
    "\n",
    "\n",
    "    \n",
    "\n",
    "# affiche les 10 mots / labels les plus fréquents de chaque corpus\n",
    "def printMostFrequent(dataset, nm, tds):\n",
    "    print()\n",
    "    print(\"10 mots les plus fréquents : \")\n",
    "    print(dataset.mostFrequentWord)\n",
    "    print()\n",
    "    print()\n",
    "    print(\"labels les plus fréquents : \")\n",
    "    print(dataset.mostFrequentLabel)\n",
    "    print()\n",
    "    \n",
    "# affiche les 10 mots les plus ambigu de chaque corpus\n",
    "def printMostAmbiguousWord(dataset, nm, tds):\n",
    "    ambiguousDict, ambiguousWord = dataset.ambiguousWord()\n",
    "    \n",
    "    def sortSecond(val):\n",
    "        return len(val[1])\n",
    "    \n",
    "    ambiguousWord.sort(key = sortSecond, reverse = True)\n",
    "    \n",
    "    print()\n",
    "    print(\"5 mots les plus ambigu : \", ambiguousWord[:5])\n",
    "    print()\n",
    "    \n",
    "iterateCorpus(updateStat, False)"
   ]
  },
  {
   "cell_type": "code",
   "execution_count": null,
   "metadata": {},
   "outputs": [],
   "source": [
    "#baseStat = []\n",
    "\n",
    "iterateCorpus(printBasicStat)\n",
    "\n",
    "from tabulate import tabulate\n",
    "\n",
    "#print(tabulate(baseStat, tablefmt=\"latex\", floatfmt=\".2f\"))"
   ]
  },
  {
   "cell_type": "code",
   "execution_count": null,
   "metadata": {},
   "outputs": [],
   "source": [
    "iterateCorpus(printMostFrequent)"
   ]
  },
  {
   "cell_type": "code",
   "execution_count": null,
   "metadata": {},
   "outputs": [],
   "source": [
    "#mot les plus ambigu de chaque corpus\n",
    "\n",
    "iterateCorpus(printMostAmbiguousWord)"
   ]
  },
  {
   "cell_type": "markdown",
   "metadata": {},
   "source": [
    "## Out Of Vocabulary Word"
   ]
  },
  {
   "cell_type": "code",
   "execution_count": null,
   "metadata": {
    "scrolled": true
   },
   "outputs": [],
   "source": [
    "# Calcul des Out of Vocabulary Words\n",
    "oovLatex = []\n",
    "\n",
    "\n",
    "footTest = da.listeCorpus['foot'].testDataSet\n",
    "natdisTest = da.listeCorpus['natdis'].testDataSet\n",
    "\n",
    "\n",
    "for nameCorpus, corpus in da.listeCorpus.items():\n",
    "    if corpus.trainExist:\n",
    "        oovResult = corpus.computeCorpusOOV()\n",
    "        oovResultFoot = corpus.computeOOV(footTest)\n",
    "        oovResultnatdis = corpus.computeOOV(natdisTest)\n",
    "        print(nameCorpus, \" : \")\n",
    "        print(\"     Pourcentage de l'oov entre train et test : \", oovResult[0])\n",
    "        print(\"     Pourcentage de l'oov entre train et dev : \", oovResult[1])\n",
    "        print(\"     Pourcentage de l'oov entre train et footTest : \", oovResultFoot)\n",
    "        print(\"     Pourcentage de l'oov entre train et natdisTest : \", oovResultnatdis)\n",
    "        latexRows = (nameCorpus, oovResult[0], oovResult[1], oovResultFoot, oovResultnatdis)\n",
    "        oovLatex.append(latexRows)\n",
    "\n",
    "print(tabulate(oovLatex, tablefmt=\"latex\"))"
   ]
  },
  {
   "cell_type": "markdown",
   "metadata": {},
   "source": [
    "## Divergence de Kullback-Leibler"
   ]
  },
  {
   "cell_type": "code",
   "execution_count": null,
   "metadata": {
    "scrolled": true
   },
   "outputs": [],
   "source": [
    "# Calcul des divergence de KullBack-Leibler\n",
    "\n",
    "latexDKL = []\n",
    "\n",
    "for nameCorpus, corpus in da.listeCorpus.items():\n",
    "    if corpus.trainExist:\n",
    "        print(nameCorpus + \" : \")\n",
    "        DKLResult = corpus.computeCorpusKLDivergence()\n",
    "        DKLFootresult = corpus.computeKLDivergence(footTest)\n",
    "        DKLnatdisResult = corpus.computeKLDivergence(natdisTest)\n",
    "        print(\"     Dkl(test||train) = \", DKLResult)\n",
    "        print(\"     Dkl(footTest||train) = \", DKLFootresult)\n",
    "        print(\"     Dkl(natdisTest||train) = \", DKLnatdisResult)\n",
    "        latexDKL.append( (nameCorpus, DKLResult, DKLFootresult, DKLnatdisResult) )\n",
    "        \n",
    "        \n",
    "print(tabulate(latexDKL, tablefmt=\"latex\"))"
   ]
  },
  {
   "cell_type": "markdown",
   "metadata": {},
   "source": [
    "# Perplexity"
   ]
  },
  {
   "cell_type": "code",
   "execution_count": null,
   "metadata": {
    "scrolled": true
   },
   "outputs": [],
   "source": [
    "latexPerplexity = []\n",
    "\n",
    "print(\"                         train,                   test,              dev\")\n",
    "for nameCorpus, corpus in da.listeCorpus.items():\n",
    "    print(nameCorpus, \" : \")\n",
    "    pp_res = corpus.computePerplexityCorpus()\n",
    "    print(\"     perplexity : \", pp_res)\n",
    "    latexRow = []\n",
    "    latexRow.append(nameCorpus)\n",
    "    if type(pp_res) == tuple:\n",
    "        for i in pp_res:\n",
    "            latexRow.append(i)\n",
    "    else:\n",
    "        latexRow.append(pp_res)\n",
    "    latexPerplexity.append( latexRow )\n",
    "    \n",
    "print(tabulate(latexPerplexity, tablefmt=\"latex\"))"
   ]
  },
  {
   "cell_type": "markdown",
   "metadata": {},
   "source": [
    "# Training Model\n",
    "## Decision Tree Classifier\n",
    "\n",
    "### Validation croisée detection des meilleurs hyper-paramètre"
   ]
  },
  {
   "cell_type": "code",
   "execution_count": 3,
   "metadata": {},
   "outputs": [],
   "source": [
    "import modelAnalysis as ma\n",
    "import DecisionTreeClassifier as dtree\n",
    "import features as ft"
   ]
  },
  {
   "cell_type": "code",
   "execution_count": null,
   "metadata": {
    "scrolled": true
   },
   "outputs": [
    {
     "name": "stdout",
     "output_type": "stream",
     "text": [
      "trainSet or testSet for corpus foot not available\n",
      "Beginning of the model analysis between  sequoia  train and  sequoia  test\n",
      "split_criterion :  gini  / gen_test :  median\n",
      "      training time :  0.16129732131958008\n",
      "      Max depth :  1 score on train :  33.55093242226425   Actual score on test :  33.13141683778234  Highscore !!\n",
      "      training time :  0.33096814155578613\n",
      "      Max depth :  2 score on train :  35.96079149126553   Actual score on test :  35.59548254620123  Highscore !!\n",
      "      training time :  0.45343494415283203\n",
      "      Max depth :  3 score on train :  41.57769507656641   Actual score on test :  41.28336755646817  Highscore !!\n",
      "      training time :  0.6045036315917969\n",
      "      Max depth :  4 score on train :  47.46303865942692   Actual score on test :  47.002053388090346  Highscore !!\n",
      "      training time :  0.7209985256195068\n",
      "      Max depth :  5 score on train :  51.76417952941655   Actual score on test :  51.04722792607803  Highscore !!\n",
      "      training time :  1.1037993431091309\n",
      "      Max depth :  6 score on train :  56.75065584772131   Actual score on test :  56.75564681724846  Highscore !!\n",
      "      training time :  1.2337045669555664\n",
      "      Max depth :  7 score on train :  63.27252760661338   Actual score on test :  63.398357289527716  Highscore !!\n",
      "      training time :  1.6543750762939453\n",
      "      Max depth :  8 score on train :  68.28747483375022   Actual score on test :  68.81930184804929  Highscore !!\n",
      "      training time :  2.4412436485290527\n",
      "      Max depth :  9 score on train :  72.78384479287413   Actual score on test :  72.18685831622177  Highscore !!\n",
      "      training time :  3.3501734733581543\n",
      "      Max depth :  10 score on train :  77.18260020743091   Actual score on test :  76.46817248459959  Highscore !!\n",
      "      training time :  4.48064112663269\n",
      "      Max depth :  11 score on train :  81.74608016594472   Actual score on test :  80.48254620123203  Highscore !!\n",
      "      training time :  6.6632304191589355\n",
      "      Max depth :  12 score on train :  85.70557012994936   Actual score on test :  83.18275154004107  Highscore !!\n",
      "      training time :  9.540286302566528\n",
      "      Max depth :  13 score on train :  89.0142964635064   Actual score on test :  85.564681724846  Highscore !!\n",
      "      training time :  14.391602516174316\n",
      "      Max depth :  14 score on train :  92.09118825371647   Actual score on test :  87.56673511293634  Highscore !!\n",
      "      training time :  17.435656785964966\n",
      "      Max depth :  15 score on train :  94.13906005328127   Actual score on test :  88.64476386036961  Highscore !!\n",
      "      training time :  18.836118698120117\n",
      "      Max depth :  16 score on train :  95.66835458483314   Actual score on test :  89.24024640657085  Highscore !!\n",
      "      training time :  21.42393469810486\n",
      "      Max depth :  17 score on train :  96.6302645760885   Actual score on test :  89.41478439425052  Highscore !!\n",
      "      training time :  21.90298056602478\n",
      "      Max depth :  18 score on train :  97.22612002521709   Actual score on test :  89.47638603696099  Highscore !!\n",
      "      training time :  26.17222023010254\n",
      "      Max depth :  19 score on train :  97.61657820348564   Actual score on test :  89.27104722792608\n",
      "      training time :  24.514244079589844\n",
      "      Max depth :  20 score on train :  97.88298456470014   Actual score on test :  89.0965092402464\n",
      "      training time :  24.01155138015747\n",
      "      Max depth :  21 score on train :  98.07618001748926   Actual score on test :  89.15811088295688\n",
      "      training time :  23.894148349761963\n",
      "      Max depth :  22 score on train :  98.27954365200415   Actual score on test :  89.01437371663245\n",
      "      training time :  24.09357500076294\n",
      "      Max depth :  23 score on train :  98.42189819616456   Actual score on test :  89.02464065708419\n",
      "      training time :  24.803507804870605\n",
      "      Max depth :  24 score on train :  98.49104183189962   Actual score on test :  88.9835728952772\n",
      "      training time :  24.820765018463135\n",
      "      Max depth :  25 score on train :  98.51951274073171   Actual score on test :  89.01437371663245\n",
      "split_criterion :  gini  / gen_test :  mean\n",
      "      training time :  0.14824700355529785\n",
      "      Max depth :  1 score on train :  33.55093242226425   Actual score on test :  33.13141683778234  Highscore !!\n",
      "      training time :  0.2953038215637207\n",
      "      Max depth :  2 score on train :  35.96079149126553   Actual score on test :  35.59548254620123  Highscore !!\n",
      "      training time :  0.4346272945404053\n",
      "      Max depth :  3 score on train :  41.57972871291156   Actual score on test :  41.29363449691992  Highscore !!\n",
      "      training time :  0.7223620414733887\n",
      "      Max depth :  4 score on train :  47.46100502308177   Actual score on test :  47.002053388090346  Highscore !!\n",
      "      training time :  0.6999423503875732\n",
      "      Max depth :  5 score on train :  51.94720680047994   Actual score on test :  51.26283367556468  Highscore !!\n",
      "      training time :  0.9177072048187256\n",
      "      Max depth :  6 score on train :  56.46594675940049   Actual score on test :  55.98562628336755  Highscore !!\n",
      "      training time :  1.0624358654022217\n",
      "      Max depth :  7 score on train :  61.36090944217355   Actual score on test :  61.119096509240244  Highscore !!\n",
      "      training time :  1.3474578857421875\n",
      "      Max depth :  8 score on train :  66.14605576230859   Actual score on test :  66.09856262833675  Highscore !!\n",
      "      training time :  1.8074743747711182\n",
      "      Max depth :  9 score on train :  71.09185935371038   Actual score on test :  70.6570841889117  Highscore !!\n",
      "      training time :  2.519286632537842\n",
      "      Max depth :  10 score on train :  76.38744839647774   Actual score on test :  75.4517453798768  Highscore !!\n",
      "      training time :  3.6890957355499268\n",
      "      Max depth :  11 score on train :  81.11768653529376   Actual score on test :  79.8870636550308  Highscore !!\n",
      "      training time :  5.608954906463623\n",
      "      Max depth :  12 score on train :  85.47780285929271   Actual score on test :  83.43942505133471  Highscore !!\n",
      "      training time :  8.39049506187439\n",
      "      Max depth :  13 score on train :  89.2522319158888   Actual score on test :  85.66735112936344  Highscore !!\n",
      "      training time :  11.491496324539185\n",
      "      Max depth :  14 score on train :  92.125760071584   Actual score on test :  87.63860369609856  Highscore !!\n",
      "      training time :  14.030879974365234\n",
      "      Max depth :  15 score on train :  94.46444186850508   Actual score on test :  88.90143737166323  Highscore !!\n",
      "      training time :  16.55455994606018\n",
      "      Max depth :  16 score on train :  95.87781912838346   Actual score on test :  89.11704312114989  Highscore !!\n",
      "      training time :  17.784189462661743\n",
      "      Max depth :  17 score on train :  96.81329184715189   Actual score on test :  89.435318275154  Highscore !!\n",
      "      training time :  18.345641136169434\n",
      "      Max depth :  18 score on train :  97.35627275130662   Actual score on test :  89.42505133470226\n",
      "      training time :  19.69958257675171\n",
      "      Max depth :  19 score on train :  97.71215911170763   Actual score on test :  89.11704312114989\n",
      "      training time :  20.315568447113037\n",
      "      Max depth :  20 score on train :  97.98263274561243   Actual score on test :  88.94250513347023\n",
      "      training time :  19.87231945991516\n",
      "      Max depth :  21 score on train :  98.15955910764038   Actual score on test :  88.80903490759754\n",
      "      training time :  20.705195903778076\n",
      "      Max depth :  22 score on train :  98.31208183352653   Actual score on test :  88.89117043121149\n",
      "      training time :  20.634906768798828\n",
      "      Max depth :  23 score on train :  98.44223455961605   Actual score on test :  88.75770020533881\n",
      "      training time :  21.238707542419434\n",
      "      Max depth :  24 score on train :  98.53374819514774   Actual score on test :  88.80903490759754\n",
      "      training time :  20.994933605194092\n",
      "      Max depth :  25 score on train :  98.59475728550221   Actual score on test :  88.78850102669405\n",
      "split_criterion :  entropy  / gen_test :  median\n",
      "      training time :  0.16296720504760742\n",
      "      Max depth :  1 score on train :  33.55093242226425   Actual score on test :  33.13141683778234  Highscore !!\n",
      "      training time :  0.3018519878387451\n",
      "      Max depth :  2 score on train :  35.96079149126553   Actual score on test :  35.59548254620123  Highscore !!\n"
     ]
    },
    {
     "name": "stdout",
     "output_type": "stream",
     "text": [
      "      training time :  0.47067928314208984\n",
      "      Max depth :  3 score on train :  41.57769507656641   Actual score on test :  41.28336755646817  Highscore !!\n",
      "      training time :  0.6067869663238525\n",
      "      Max depth :  4 score on train :  46.40351412360442   Actual score on test :  45.52361396303902  Highscore !!\n",
      "      training time :  0.7256114482879639\n",
      "      Max depth :  5 score on train :  51.45303316860878   Actual score on test :  50.74948665297742  Highscore !!\n",
      "      training time :  0.9308128356933594\n",
      "      Max depth :  6 score on train :  56.34189494234641   Actual score on test :  55.780287474332646  Highscore !!\n",
      "      training time :  1.2340123653411865\n",
      "      Max depth :  7 score on train :  62.82106033799037   Actual score on test :  62.15605749486654  Highscore !!\n",
      "      training time :  1.5823156833648682\n",
      "      Max depth :  8 score on train :  68.44609846867183   Actual score on test :  67.8952772073922  Highscore !!\n",
      "      training time :  2.070200204849243\n",
      "      Max depth :  9 score on train :  73.24751387956806   Actual score on test :  72.39219712525667  Highscore !!\n",
      "      training time :  3.003549098968506\n",
      "      Max depth :  10 score on train :  77.7621865657983   Actual score on test :  76.83778234086243  Highscore !!\n",
      "      training time :  4.716823101043701\n",
      "      Max depth :  11 score on train :  82.1162019807618   Actual score on test :  80.54414784394251  Highscore !!\n",
      "      training time :  7.111259698867798\n",
      "      Max depth :  12 score on train :  85.93740467329633   Actual score on test :  83.75770020533881  Highscore !!\n",
      "      training time :  10.312279462814331\n",
      "      Max depth :  13 score on train :  89.70369918451182   Actual score on test :  86.2217659137577  Highscore !!\n",
      "      training time :  13.133151054382324\n",
      "      Max depth :  14 score on train :  92.61790006711   Actual score on test :  87.96714579055441  Highscore !!\n",
      "      training time :  16.56241774559021\n",
      "      Max depth :  15 score on train :  94.79185732007403   Actual score on test :  88.69609856262834  Highscore !!\n",
      "      training time :  18.965368032455444\n",
      "      Max depth :  16 score on train :  96.16862912573974   Actual score on test :  89.60985626283367  Highscore !!\n",
      "      training time :  20.774049520492554\n",
      "      Max depth :  17 score on train :  96.94141093689626   Actual score on test :  89.68172484599589  Highscore !!\n",
      "      training time :  23.242533683776855\n",
      "      Max depth :  18 score on train :  97.49659365912187   Actual score on test :  89.57905544147845\n",
      "      training time :  24.833420991897583\n",
      "      Max depth :  19 score on train :  97.82400911069082   Actual score on test :  89.5277207392197\n",
      "      training time :  24.613224983215332\n",
      "      Max depth :  20 score on train :  98.04567547231204   Actual score on test :  89.40451745379877\n",
      "      training time :  25.370707035064697\n",
      "      Max depth :  21 score on train :  98.25717365220751   Actual score on test :  89.30184804928132\n",
      "      training time :  25.37283420562744\n",
      "      Max depth :  22 score on train :  98.44833546865149   Actual score on test :  89.21971252566735\n",
      "      training time :  28.265676736831665\n",
      "      Max depth :  23 score on train :  98.55815183128954   Actual score on test :  89.21971252566735\n",
      "      training time :  26.32447576522827\n",
      "      Max depth :  24 score on train :  98.6028918308828   Actual score on test :  89.24024640657085\n",
      "      training time :  25.693779468536377\n",
      "      Max depth :  25 score on train :  98.60899273991825   Actual score on test :  89.22997946611909\n",
      "split_criterion :  entropy  / gen_test :  mean\n",
      "      training time :  0.15686774253845215\n",
      "      Max depth :  1 score on train :  33.55093242226425   Actual score on test :  33.13141683778234  Highscore !!\n",
      "      training time :  0.2945573329925537\n",
      "      Max depth :  2 score on train :  35.96079149126553   Actual score on test :  35.59548254620123  Highscore !!\n",
      "      training time :  0.5089688301086426\n",
      "      Max depth :  3 score on train :  41.57972871291156   Actual score on test :  41.29363449691992  Highscore !!\n",
      "      training time :  0.6898782253265381\n",
      "      Max depth :  4 score on train :  46.751265938624854   Actual score on test :  45.93429158110883  Highscore !!\n",
      "      training time :  0.9293265342712402\n",
      "      Max depth :  5 score on train :  51.876029528399734   Actual score on test :  51.2217659137577  Highscore !!\n",
      "      training time :  0.9770376682281494\n",
      "      Max depth :  6 score on train :  56.97638948203282   Actual score on test :  56.39630390143737  Highscore !!\n",
      "      training time :  1.188270092010498\n",
      "      Max depth :  7 score on train :  60.53525308604315   Actual score on test :  59.83572895277207  Highscore !!\n",
      "      training time :  1.442451000213623\n",
      "      Max depth :  8 score on train :  67.48418847741647   Actual score on test :  66.83778234086243  Highscore !!\n",
      "      training time :  2.1782267093658447\n",
      "      Max depth :  9 score on train :  73.0156793362211   Actual score on test :  72.42299794661191  Highscore !!\n",
      "      training time :  2.9717321395874023\n",
      "      Max depth :  10 score on train :  77.57509202204463   Actual score on test :  76.03696098562628  Highscore !!\n",
      "      training time :  4.376317977905273\n",
      "      Max depth :  11 score on train :  82.00638561812377   Actual score on test :  79.38398357289527  Highscore !!\n",
      "      training time :  6.413213014602661\n",
      "      Max depth :  12 score on train :  86.36650194212271   Actual score on test :  83.25462012320328  Highscore !!\n",
      "      training time :  9.098633766174316\n",
      "      Max depth :  13 score on train :  90.2405791796311   Actual score on test :  86.10882956878851  Highscore !!\n",
      "      training time :  12.569262742996216\n",
      "      Max depth :  14 score on train :  93.1934191527871   Actual score on test :  87.83367556468173  Highscore !!\n",
      "      training time :  14.702789783477783\n",
      "      Max depth :  15 score on train :  95.13757549874931   Actual score on test :  88.51129363449692  Highscore !!\n",
      "      training time :  16.74005150794983\n",
      "      Max depth :  16 score on train :  96.41063185081244   Actual score on test :  88.94250513347023  Highscore !!\n",
      "      training time :  18.739683389663696\n",
      "      Max depth :  17 score on train :  97.09800093547271   Actual score on test :  88.89117043121149\n",
      "      training time :  18.57889676094055\n",
      "      Max depth :  18 score on train :  97.51286274988307   Actual score on test :  88.85010266940452\n",
      "      training time :  19.200122594833374\n",
      "      Max depth :  19 score on train :  97.85044638317775   Actual score on test :  88.71663244353184\n",
      "      training time :  20.280465841293335\n",
      "      Max depth :  20 score on train :  98.09651638094076   Actual score on test :  88.53182751540041\n",
      "      training time :  20.42858862876892\n",
      "      Max depth :  21 score on train :  98.29581274276535   Actual score on test :  88.63449691991786\n",
      "      training time :  21.007273197174072\n",
      "      Max depth :  22 score on train :  98.46257092306755   Actual score on test :  88.56262833675565\n",
      "      training time :  21.266743421554565\n",
      "      Max depth :  23 score on train :  98.60899273991825   Actual score on test :  88.53182751540041\n",
      "      training time :  21.587589263916016\n",
      "      Max depth :  24 score on train :  98.6944054664145   Actual score on test :  88.50102669404517\n",
      "      training time :  20.959176063537598\n",
      "      Max depth :  25 score on train :  98.73101092062717   Actual score on test :  88.44969199178645\n"
     ]
    },
    {
     "name": "stderr",
     "output_type": "stream",
     "text": [
      "/home/fusroman/Documents/Informatique_et_Programmation/Intelligence Artificielle/M1_Intro_machine_learning/Projet/src/modelAnalysis.py:238: RuntimeWarning: invalid value encountered in true_divide\n",
      "  cm = cm.astype('float') / cm.sum(axis=1)[:, np.newaxis]\n"
     ]
    },
    {
     "name": "stdout",
     "output_type": "stream",
     "text": [
      "score on devDataSet sequoia is 89.37679967091732 with best param (17, 'entropy', 'median')\n",
      "decisionTreeAnalysis on sequoia finished in 1547.208726644516 secondes\n",
      "results graph can be shown in ../results/decisionTree/ location\n",
      "Beginning of the model analysis between  spoken  train and  spoken  test\n",
      "split_criterion :  gini  / gen_test :  median\n",
      "      training time :  0.04868793487548828\n",
      "      Max depth :  1 score on train :  19.094435527019797   Actual score on test :  18.76123876123876  Highscore !!\n",
      "      training time :  0.09711360931396484\n",
      "      Max depth :  2 score on train :  24.271000535045477   Actual score on test :  23.156843156843156  Highscore !!\n",
      "      training time :  0.1629340648651123\n",
      "      Max depth :  3 score on train :  32.38362760834671   Actual score on test :  30.0  Highscore !!\n",
      "      training time :  0.22063875198364258\n",
      "      Max depth :  4 score on train :  37.887907972177636   Actual score on test :  34.985014985014985  Highscore !!\n",
      "      training time :  0.321774959564209\n",
      "      Max depth :  5 score on train :  47.66586409844837   Actual score on test :  42.8971028971029  Highscore !!\n",
      "      training time :  0.5743927955627441\n",
      "      Max depth :  6 score on train :  56.0928303905832   Actual score on test :  52.05794205794205  Highscore !!\n",
      "      training time :  0.6985397338867188\n",
      "      Max depth :  7 score on train :  63.57009095773141   Actual score on test :  59.39060939060939  Highscore !!\n",
      "      training time :  0.8898191452026367\n",
      "      Max depth :  8 score on train :  71.52889245585875   Actual score on test :  65.99400599400599  Highscore !!\n",
      "      training time :  1.3476386070251465\n",
      "      Max depth :  9 score on train :  78.37747458533975   Actual score on test :  71.07892107892107  Highscore !!\n",
      "      training time :  2.3667736053466797\n",
      "      Max depth :  10 score on train :  84.12921348314607   Actual score on test :  76.63336663336663  Highscore !!\n",
      "      training time :  3.541930675506592\n",
      "      Max depth :  11 score on train :  89.12520064205457   Actual score on test :  80.82917082917082  Highscore !!\n",
      "      training time :  4.924577713012695\n",
      "      Max depth :  12 score on train :  92.5227394328518   Actual score on test :  82.5974025974026  Highscore !!\n",
      "      training time :  5.39175009727478\n",
      "      Max depth :  13 score on train :  94.7565543071161   Actual score on test :  83.61638361638362  Highscore !!\n",
      "      training time :  7.085282802581787\n",
      "      Max depth :  14 score on train :  96.08747993579453   Actual score on test :  84.00599400599401  Highscore !!\n",
      "      training time :  6.835611820220947\n",
      "      Max depth :  15 score on train :  96.88336008560728   Actual score on test :  84.10589410589411  Highscore !!\n",
      "      training time :  7.10322380065918\n",
      "      Max depth :  16 score on train :  97.36490101658642   Actual score on test :  83.6963036963037\n",
      "      training time :  7.618476390838623\n",
      "      Max depth :  17 score on train :  97.71936864633494   Actual score on test :  83.60639360639361\n",
      "      training time :  7.987896680831909\n",
      "      Max depth :  18 score on train :  97.9601391118245   Actual score on test :  83.71628371628371\n",
      "      training time :  8.231195211410522\n",
      "      Max depth :  19 score on train :  98.15409309791332   Actual score on test :  83.50649350649351\n",
      "      training time :  8.144020795822144\n",
      "      Max depth :  20 score on train :  98.29454253611557   Actual score on test :  83.52647352647352\n",
      "      training time :  8.871826171875\n",
      "      Max depth :  21 score on train :  98.38148742643125   Actual score on test :  83.3966033966034\n",
      "      training time :  8.877351999282837\n",
      "      Max depth :  22 score on train :  98.44836811128947   Actual score on test :  83.35664335664336\n"
     ]
    }
   ],
   "source": [
    "# temps de calcul de cette cellule très long\n",
    "for namedataset, _ in da.listeCorpus.items():\n",
    "    if namedataset not in [\"gsd\", \"ftb\"]:\n",
    "        ma.analyzeDecisionTree(namedataset, verbose=True)"
   ]
  },
  {
   "cell_type": "code",
   "execution_count": null,
   "metadata": {},
   "outputs": [],
   "source": [
    "# temps de calcul de cette cellule très long en raison des deux plus gros ensemble\n",
    "for namedataset, _ in da.listeCorpus.items():\n",
    "    if namedataset in [\"gsd\", \"ftb\"]:\n",
    "        ma.analyzeDecisionTree(namedataset, verbose=True)"
   ]
  },
  {
   "cell_type": "markdown",
   "metadata": {},
   "source": [
    "### Analyse du changement de contexte avec les meilleurs hyper-paramètres"
   ]
  },
  {
   "cell_type": "code",
   "execution_count": null,
   "metadata": {},
   "outputs": [],
   "source": [
    "footTest = da.listeCorpus[\"foot\"].testDataSet\n",
    "natdisTest = da.listeCorpus[\"natdis\"].testDataSet\n",
    "\n",
    "Xfoot, Yfoot = ft.buildFeature(footTest)\n",
    "Xnatdis, Ynatdis = ft.buildFeature(natdisTest)"
   ]
  },
  {
   "cell_type": "code",
   "execution_count": null,
   "metadata": {},
   "outputs": [],
   "source": [
    "corpus = [\"partut\", \"pud\", \"sequoia\", \"spoken\"]\n",
    "bestParam = [(15, \"entropy\", \"mean\"), (16, \"entropy\", \"mean\"), (17, \"entropy\", \"median\"), (15, \"entropy\", \"mean\")]\n",
    "\n",
    "for nameDataset, (max_depth, split_criterion, gen_test) in zip(corpus, bestParam):\n",
    "    train = da.listeCorpus[nameDataset].trainDataSet\n",
    "    Xtrain, Ytrain = ft.buildFeature(train)\n",
    "\n",
    "    \n",
    "    decisionTree = dtree.DecisionTreeClassifier(Xtrain, Ytrain, \n",
    "                                                max_depth=max_depth, \n",
    "                                                split_criterion=split_criterion, \n",
    "                                                gen_test=gen_test)\n",
    "    tree = decisionTree.fit()\n",
    "    \n",
    "    scoreFoot, cm_foot = decisionTree.modelScore(tree, Xfoot, Yfoot)\n",
    "    scoreNatdis, cm_natdis = decisionTree.modelScore(tree, Xnatdis, Ynatdis)\n",
    "    \n",
    "    cm_foot_fig = ma.showConfusionMatrix(\n",
    "            cm_foot, decisionTree.classLabel.keys(), title=\"confusion matrix between \" + nameDataset + \" train and foot test\")\n",
    "    \n",
    "    cm_natdis_fig = ma.showConfusionMatrix(\n",
    "            cm_foot, decisionTree.classLabel.keys(), title=\"confusion matrix between \" + nameDataset + \" train and natdis test\")\n",
    "    \n",
    "    cm_foot_fig.savefig(\"../results/decisionTree/confusion_matrix_foot_\" + nameDataset)\n",
    "    cm_natdis_fig.savefig(\"../results/decisionTree/confusion_matrix_natdis_\" + nameDataset)"
   ]
  },
  {
   "cell_type": "markdown",
   "metadata": {},
   "source": [
    "## Naive Bayes Classifier"
   ]
  },
  {
   "cell_type": "code",
   "execution_count": null,
   "metadata": {},
   "outputs": [],
   "source": [
    "import NaiveBayesClassifier as naivebc\n",
    "\n",
    "naiveBC = naivebc.NaiveBayesClassifier(Xtrain, Ytrain)"
   ]
  },
  {
   "cell_type": "code",
   "execution_count": null,
   "metadata": {
    "scrolled": true
   },
   "outputs": [],
   "source": [
    "naiveBC.fit()"
   ]
  },
  {
   "cell_type": "code",
   "execution_count": null,
   "metadata": {},
   "outputs": [],
   "source": [
    "score, cm = naiveBC.modelScore(Xtest, Ytest)"
   ]
  },
  {
   "cell_type": "code",
   "execution_count": null,
   "metadata": {},
   "outputs": [],
   "source": [
    "print(score)"
   ]
  },
  {
   "cell_type": "code",
   "execution_count": null,
   "metadata": {},
   "outputs": [],
   "source": [
    "ma.showConfusionMatrix(cm, decisionTree.classLabel.keys())"
   ]
  },
  {
   "cell_type": "code",
   "execution_count": null,
   "metadata": {},
   "outputs": [],
   "source": [
    "from sklearn.naive_bayes import MultinomialNB"
   ]
  },
  {
   "cell_type": "code",
   "execution_count": null,
   "metadata": {
    "scrolled": true
   },
   "outputs": [],
   "source": [
    "Xtrain, Ytrain = ft.buildFeature(trainSet, lambda x:x)\n",
    "Xtest, Ytest = ft.buildFeature(testSet, lambda x:x)\n",
    "\n",
    "\n",
    "clf = MultinomialNB()\n",
    "clf.fit(trainSet, testSet)"
   ]
  },
  {
   "cell_type": "code",
   "execution_count": null,
   "metadata": {},
   "outputs": [],
   "source": [
    "clf.score(Xtest, Ytest)"
   ]
  },
  {
   "cell_type": "code",
   "execution_count": null,
   "metadata": {},
   "outputs": [],
   "source": []
  }
 ],
 "metadata": {
  "kernelspec": {
   "display_name": "Python 3",
   "language": "python",
   "name": "python3"
  },
  "language_info": {
   "codemirror_mode": {
    "name": "ipython",
    "version": 3
   },
   "file_extension": ".py",
   "mimetype": "text/x-python",
   "name": "python",
   "nbconvert_exporter": "python",
   "pygments_lexer": "ipython3",
   "version": "3.6.10"
  }
 },
 "nbformat": 4,
 "nbformat_minor": 2
}
